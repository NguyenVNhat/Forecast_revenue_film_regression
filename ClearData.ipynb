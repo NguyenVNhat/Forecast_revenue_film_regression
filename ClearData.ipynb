{
 "cells": [
  {
   "cell_type": "markdown",
   "metadata": {},
   "source": [
    "Khai báo thư viện"
   ]
  },
  {
   "cell_type": "code",
   "execution_count": 17,
   "metadata": {},
   "outputs": [],
   "source": [
    "import pandas as pd\n",
    "import numpy as np\n",
    "import seaborn as sns\n",
    "import matplotlib.pyplot as plt"
   ]
  },
  {
   "cell_type": "code",
   "execution_count": 18,
   "metadata": {},
   "outputs": [],
   "source": [
    "data = pd.read_csv('data_old.csv')\n"
   ]
  },
  {
   "cell_type": "code",
   "execution_count": 19,
   "metadata": {},
   "outputs": [
    {
     "data": {
      "text/html": [
       "<div>\n",
       "<style scoped>\n",
       "    .dataframe tbody tr th:only-of-type {\n",
       "        vertical-align: middle;\n",
       "    }\n",
       "\n",
       "    .dataframe tbody tr th {\n",
       "        vertical-align: top;\n",
       "    }\n",
       "\n",
       "    .dataframe thead th {\n",
       "        text-align: right;\n",
       "    }\n",
       "</style>\n",
       "<table border=\"1\" class=\"dataframe\">\n",
       "  <thead>\n",
       "    <tr style=\"text-align: right;\">\n",
       "      <th></th>\n",
       "      <th>Release Group</th>\n",
       "      <th>Gross</th>\n",
       "      <th>Maxtheater</th>\n",
       "      <th>Openning</th>\n",
       "      <th>Percent of total</th>\n",
       "      <th>Openning theater</th>\n",
       "      <th>Date</th>\n",
       "      <th>Year</th>\n",
       "    </tr>\n",
       "  </thead>\n",
       "  <tbody>\n",
       "    <tr>\n",
       "      <th>0</th>\n",
       "      <td>The Mermaid</td>\n",
       "      <td>$4,419,787</td>\n",
       "      <td>186</td>\n",
       "      <td>$1,155,452</td>\n",
       "      <td>26.1%</td>\n",
       "      <td>186</td>\n",
       "      <td>Feb 10</td>\n",
       "      <td>2016</td>\n",
       "    </tr>\n",
       "    <tr>\n",
       "      <th>1</th>\n",
       "      <td>The Secret Life of Pets</td>\n",
       "      <td>$2,684,000</td>\n",
       "      <td>98</td>\n",
       "      <td>$806,141</td>\n",
       "      <td>30%</td>\n",
       "      <td>94</td>\n",
       "      <td>Jul 1</td>\n",
       "      <td>2016</td>\n",
       "    </tr>\n",
       "    <tr>\n",
       "      <th>2</th>\n",
       "      <td>Batman v Superman: Dawn of Justice</td>\n",
       "      <td>$2,240,920</td>\n",
       "      <td>NaN</td>\n",
       "      <td>NaN</td>\n",
       "      <td>NaN</td>\n",
       "      <td>NaN</td>\n",
       "      <td>Mar 25</td>\n",
       "      <td>2016</td>\n",
       "    </tr>\n",
       "    <tr>\n",
       "      <th>3</th>\n",
       "      <td>Sing</td>\n",
       "      <td>$2,068,427</td>\n",
       "      <td>107</td>\n",
       "      <td>$925,007</td>\n",
       "      <td>44.7%</td>\n",
       "      <td>107</td>\n",
       "      <td>Dec 23</td>\n",
       "      <td>2016</td>\n",
       "    </tr>\n",
       "    <tr>\n",
       "      <th>4</th>\n",
       "      <td>The Angry Birds Movie</td>\n",
       "      <td>$2,030,673</td>\n",
       "      <td>1</td>\n",
       "      <td>NaN</td>\n",
       "      <td>NaN</td>\n",
       "      <td>NaN</td>\n",
       "      <td>May 13</td>\n",
       "      <td>2016</td>\n",
       "    </tr>\n",
       "  </tbody>\n",
       "</table>\n",
       "</div>"
      ],
      "text/plain": [
       "                        Release Group       Gross Maxtheater    Openning  \\\n",
       "0                         The Mermaid  $4,419,787        186  $1,155,452   \n",
       "1             The Secret Life of Pets  $2,684,000         98    $806,141   \n",
       "2  Batman v Superman: Dawn of Justice  $2,240,920        NaN         NaN   \n",
       "3                                Sing  $2,068,427        107    $925,007   \n",
       "4               The Angry Birds Movie  $2,030,673          1         NaN   \n",
       "\n",
       "  Percent of total Openning theater    Date  Year  \n",
       "0            26.1%              186  Feb 10  2016  \n",
       "1              30%               94   Jul 1  2016  \n",
       "2              NaN              NaN  Mar 25  2016  \n",
       "3            44.7%              107  Dec 23  2016  \n",
       "4              NaN              NaN  May 13  2016  "
      ]
     },
     "execution_count": 19,
     "metadata": {},
     "output_type": "execute_result"
    }
   ],
   "source": [
    "data.head()"
   ]
  },
  {
   "cell_type": "markdown",
   "metadata": {},
   "source": [
    "Kiểm tra xem có dữ liệu trống hay không"
   ]
  },
  {
   "cell_type": "code",
   "execution_count": 20,
   "metadata": {},
   "outputs": [
    {
     "data": {
      "text/plain": [
       "Release Group         0\n",
       "Gross                 0\n",
       "Maxtheater          105\n",
       "Openning            176\n",
       "Percent of total    176\n",
       "Openning theater    240\n",
       "Date                  0\n",
       "Year                  0\n",
       "dtype: int64"
      ]
     },
     "execution_count": 20,
     "metadata": {},
     "output_type": "execute_result"
    }
   ],
   "source": [
    "data.isnull().sum()"
   ]
  },
  {
   "cell_type": "markdown",
   "metadata": {},
   "source": [
    "Lấy % giá trị trống trong dataframe"
   ]
  },
  {
   "cell_type": "markdown",
   "metadata": {},
   "source": [
    "Xóa các dữ liệu có quá nhiều dữ liệu bị bỏ trống"
   ]
  },
  {
   "cell_type": "code",
   "execution_count": 21,
   "metadata": {},
   "outputs": [
    {
     "data": {
      "text/html": [
       "<div>\n",
       "<style scoped>\n",
       "    .dataframe tbody tr th:only-of-type {\n",
       "        vertical-align: middle;\n",
       "    }\n",
       "\n",
       "    .dataframe tbody tr th {\n",
       "        vertical-align: top;\n",
       "    }\n",
       "\n",
       "    .dataframe thead th {\n",
       "        text-align: right;\n",
       "    }\n",
       "</style>\n",
       "<table border=\"1\" class=\"dataframe\">\n",
       "  <thead>\n",
       "    <tr style=\"text-align: right;\">\n",
       "      <th></th>\n",
       "      <th>Release Group</th>\n",
       "      <th>Gross</th>\n",
       "      <th>Maxtheater</th>\n",
       "      <th>Openning</th>\n",
       "      <th>Percent of total</th>\n",
       "      <th>Openning theater</th>\n",
       "      <th>Date</th>\n",
       "      <th>Year</th>\n",
       "    </tr>\n",
       "  </thead>\n",
       "  <tbody>\n",
       "    <tr>\n",
       "      <th>0</th>\n",
       "      <td>The Mermaid</td>\n",
       "      <td>$4,419,787</td>\n",
       "      <td>186</td>\n",
       "      <td>$1,155,452</td>\n",
       "      <td>26.1%</td>\n",
       "      <td>186</td>\n",
       "      <td>Feb 10</td>\n",
       "      <td>2016</td>\n",
       "    </tr>\n",
       "    <tr>\n",
       "      <th>1</th>\n",
       "      <td>The Secret Life of Pets</td>\n",
       "      <td>$2,684,000</td>\n",
       "      <td>98</td>\n",
       "      <td>$806,141</td>\n",
       "      <td>30%</td>\n",
       "      <td>94</td>\n",
       "      <td>Jul 1</td>\n",
       "      <td>2016</td>\n",
       "    </tr>\n",
       "    <tr>\n",
       "      <th>3</th>\n",
       "      <td>Sing</td>\n",
       "      <td>$2,068,427</td>\n",
       "      <td>107</td>\n",
       "      <td>$925,007</td>\n",
       "      <td>44.7%</td>\n",
       "      <td>107</td>\n",
       "      <td>Dec 23</td>\n",
       "      <td>2016</td>\n",
       "    </tr>\n",
       "    <tr>\n",
       "      <th>6</th>\n",
       "      <td>Tia Tui La Cao Thu</td>\n",
       "      <td>$1,673,793</td>\n",
       "      <td>125</td>\n",
       "      <td>$360,582</td>\n",
       "      <td>21.5%</td>\n",
       "      <td>125</td>\n",
       "      <td>Jan 29</td>\n",
       "      <td>2016</td>\n",
       "    </tr>\n",
       "    <tr>\n",
       "      <th>7</th>\n",
       "      <td>Deadpool</td>\n",
       "      <td>$1,566,065</td>\n",
       "      <td>200</td>\n",
       "      <td>$1,566,065</td>\n",
       "      <td>100%</td>\n",
       "      <td>200</td>\n",
       "      <td>Feb 12</td>\n",
       "      <td>2016</td>\n",
       "    </tr>\n",
       "    <tr>\n",
       "      <th>...</th>\n",
       "      <td>...</td>\n",
       "      <td>...</td>\n",
       "      <td>...</td>\n",
       "      <td>...</td>\n",
       "      <td>...</td>\n",
       "      <td>...</td>\n",
       "      <td>...</td>\n",
       "      <td>...</td>\n",
       "    </tr>\n",
       "    <tr>\n",
       "      <th>1065</th>\n",
       "      <td>Cellphone</td>\n",
       "      <td>$11,396</td>\n",
       "      <td>238</td>\n",
       "      <td>$7,193</td>\n",
       "      <td>63.1%</td>\n",
       "      <td>238</td>\n",
       "      <td>Mar 1</td>\n",
       "      <td>2024</td>\n",
       "    </tr>\n",
       "    <tr>\n",
       "      <th>1066</th>\n",
       "      <td>Slyth: The Hunt Saga</td>\n",
       "      <td>$10,039</td>\n",
       "      <td>170</td>\n",
       "      <td>$4,915</td>\n",
       "      <td>49%</td>\n",
       "      <td>170</td>\n",
       "      <td>Mar 15</td>\n",
       "      <td>2024</td>\n",
       "    </tr>\n",
       "    <tr>\n",
       "      <th>1067</th>\n",
       "      <td>Digimon Adventure 02: The Beginning</td>\n",
       "      <td>$9,130</td>\n",
       "      <td>165</td>\n",
       "      <td>$4,794</td>\n",
       "      <td>52.5%</td>\n",
       "      <td>165</td>\n",
       "      <td>Jan 21</td>\n",
       "      <td>2024</td>\n",
       "    </tr>\n",
       "    <tr>\n",
       "      <th>1068</th>\n",
       "      <td>Bob Marley: One Love</td>\n",
       "      <td>$3,894</td>\n",
       "      <td>65</td>\n",
       "      <td>$2,064</td>\n",
       "      <td>53%</td>\n",
       "      <td>65</td>\n",
       "      <td>Mar 15</td>\n",
       "      <td>2024</td>\n",
       "    </tr>\n",
       "    <tr>\n",
       "      <th>1069</th>\n",
       "      <td>City Hunter the Movie: Angel Dust</td>\n",
       "      <td>$1,088</td>\n",
       "      <td>94</td>\n",
       "      <td>$1,088</td>\n",
       "      <td>100%</td>\n",
       "      <td>94</td>\n",
       "      <td>Mar 1</td>\n",
       "      <td>2024</td>\n",
       "    </tr>\n",
       "  </tbody>\n",
       "</table>\n",
       "<p>896 rows × 8 columns</p>\n",
       "</div>"
      ],
      "text/plain": [
       "                            Release Group       Gross Maxtheater    Openning  \\\n",
       "0                             The Mermaid  $4,419,787        186  $1,155,452   \n",
       "1                 The Secret Life of Pets  $2,684,000         98    $806,141   \n",
       "3                                    Sing  $2,068,427        107    $925,007   \n",
       "6                      Tia Tui La Cao Thu  $1,673,793        125    $360,582   \n",
       "7                                Deadpool  $1,566,065        200  $1,566,065   \n",
       "...                                   ...         ...        ...         ...   \n",
       "1065                            Cellphone     $11,396        238      $7,193   \n",
       "1066                 Slyth: The Hunt Saga     $10,039        170      $4,915   \n",
       "1067  Digimon Adventure 02: The Beginning      $9,130        165      $4,794   \n",
       "1068                 Bob Marley: One Love      $3,894         65      $2,064   \n",
       "1069    City Hunter the Movie: Angel Dust      $1,088         94      $1,088   \n",
       "\n",
       "     Percent of total Openning theater    Date  Year  \n",
       "0               26.1%              186  Feb 10  2016  \n",
       "1                 30%               94   Jul 1  2016  \n",
       "3               44.7%              107  Dec 23  2016  \n",
       "6               21.5%              125  Jan 29  2016  \n",
       "7                100%              200  Feb 12  2016  \n",
       "...               ...              ...     ...   ...  \n",
       "1065            63.1%              238   Mar 1  2024  \n",
       "1066              49%              170  Mar 15  2024  \n",
       "1067            52.5%              165  Jan 21  2024  \n",
       "1068              53%               65  Mar 15  2024  \n",
       "1069             100%               94   Mar 1  2024  \n",
       "\n",
       "[896 rows x 8 columns]"
      ]
     },
     "execution_count": 21,
     "metadata": {},
     "output_type": "execute_result"
    }
   ],
   "source": [
    "data = data.dropna(thresh=6)\n",
    "data"
   ]
  },
  {
   "cell_type": "markdown",
   "metadata": {},
   "source": [
    "Thay thế các giá trị trống bằng phương pháp mean/median"
   ]
  },
  {
   "cell_type": "code",
   "execution_count": 22,
   "metadata": {},
   "outputs": [
    {
     "data": {
      "text/plain": [
       "Release Group        0\n",
       "Gross                0\n",
       "Maxtheater          55\n",
       "Openning             2\n",
       "Percent of total     2\n",
       "Openning theater    66\n",
       "Date                 0\n",
       "Year                 0\n",
       "dtype: int64"
      ]
     },
     "execution_count": 22,
     "metadata": {},
     "output_type": "execute_result"
    }
   ],
   "source": [
    "data.isnull().sum()"
   ]
  },
  {
   "cell_type": "code",
   "execution_count": 23,
   "metadata": {},
   "outputs": [
    {
     "data": {
      "text/plain": [
       "0    4419787\n",
       "1    2684000\n",
       "3    2068427\n",
       "6    1673793\n",
       "7    1566065\n",
       "Name: Gross, dtype: int64"
      ]
     },
     "execution_count": 23,
     "metadata": {},
     "output_type": "execute_result"
    }
   ],
   "source": [
    "data['Gross'] = data['Gross'].apply(lambda x: int(str(x).replace('$', '').replace(',','')) if pd.notnull(x) else x)\n",
    "data['Gross'].head()"
   ]
  },
  {
   "cell_type": "code",
   "execution_count": 24,
   "metadata": {},
   "outputs": [
    {
     "data": {
      "text/plain": [
       "0    186.0\n",
       "1     98.0\n",
       "3    107.0\n",
       "6    125.0\n",
       "7    200.0\n",
       "Name: Maxtheater, dtype: float64"
      ]
     },
     "execution_count": 24,
     "metadata": {},
     "output_type": "execute_result"
    }
   ],
   "source": [
    "data['Maxtheater'] = data['Maxtheater'].apply(lambda x: int(str(x).replace(',', '')) if pd.notnull(x) else x)\n",
    "data['Maxtheater'].head()"
   ]
  },
  {
   "cell_type": "code",
   "execution_count": 25,
   "metadata": {},
   "outputs": [
    {
     "data": {
      "text/plain": [
       "0    1155452.0\n",
       "1     806141.0\n",
       "3     925007.0\n",
       "6     360582.0\n",
       "7    1566065.0\n",
       "Name: Openning, dtype: float64"
      ]
     },
     "execution_count": 25,
     "metadata": {},
     "output_type": "execute_result"
    }
   ],
   "source": [
    "data['Openning'] = data['Openning'].apply(lambda x: int(str(x).replace(',', '').replace('$','')) if pd.notnull(x) else x)\n",
    "data['Openning'].head()"
   ]
  },
  {
   "cell_type": "code",
   "execution_count": 26,
   "metadata": {},
   "outputs": [
    {
     "data": {
      "text/plain": [
       "0     26.1\n",
       "1     30.0\n",
       "3     44.7\n",
       "6     21.5\n",
       "7    100.0\n",
       "Name: Percent of total, dtype: float64"
      ]
     },
     "execution_count": 26,
     "metadata": {},
     "output_type": "execute_result"
    }
   ],
   "source": [
    "data['Percent of total'] = data['Percent of total'].apply(lambda x: float(str(x).replace('%', '').replace('<0.1','0').replace(',','')) if pd.notnull(x) else x)\n",
    "data['Percent of total'].head()"
   ]
  },
  {
   "cell_type": "code",
   "execution_count": 27,
   "metadata": {},
   "outputs": [
    {
     "data": {
      "text/plain": [
       "0    186.0\n",
       "1     94.0\n",
       "3    107.0\n",
       "6    125.0\n",
       "7    200.0\n",
       "Name: Openning theater, dtype: float64"
      ]
     },
     "execution_count": 27,
     "metadata": {},
     "output_type": "execute_result"
    }
   ],
   "source": [
    "data['Openning theater'] = data['Openning theater'].apply(lambda x: int(str(x).replace(',', '')) if pd.notnull(x) else x)\n",
    "data['Openning theater'].head()"
   ]
  },
  {
   "cell_type": "markdown",
   "metadata": {},
   "source": [
    "Điền dữ liệu trống bằng median/mean/mode"
   ]
  },
  {
   "cell_type": "code",
   "execution_count": 28,
   "metadata": {},
   "outputs": [],
   "source": [
    "years = [2016,2017,2018,2019,2020,2021,2022,2023,2024]"
   ]
  },
  {
   "cell_type": "code",
   "execution_count": 29,
   "metadata": {},
   "outputs": [],
   "source": [
    "for year in years:\n",
    "    Maxtheater_median = data[data['Year'] == year]['Maxtheater'].median()\n",
    "    data.loc[data['Year'] == year, 'Maxtheater'] = data[data['Year'] == year]['Maxtheater'].fillna(Maxtheater_median)\n"
   ]
  },
  {
   "cell_type": "code",
   "execution_count": 30,
   "metadata": {},
   "outputs": [],
   "source": [
    "for year in years:\n",
    "    Openning_median=data[data['Year'] == year]['Openning'].median()\n",
    "    data.loc[data['Year'] == year, 'Openning']=data['Openning'].fillna(Openning_median)"
   ]
  },
  {
   "cell_type": "code",
   "execution_count": 31,
   "metadata": {},
   "outputs": [],
   "source": [
    "for year in years:\n",
    "    Percentoftotal_median=data[data['Year'] == year]['Percent of total'].median()\n",
    "    data.loc[data['Year'] == year, 'Percent of total']=data['Percent of total'].fillna(Percentoftotal_median)"
   ]
  },
  {
   "cell_type": "code",
   "execution_count": 32,
   "metadata": {},
   "outputs": [],
   "source": [
    "for year in years:\n",
    "    Openningtheater_median=data[data['Year'] == year]['Openning theater'].median()\n",
    "    data.loc[data['Year'] == year, 'Openning theater']=data['Openning theater'].fillna(Openningtheater_median)"
   ]
  },
  {
   "cell_type": "code",
   "execution_count": 33,
   "metadata": {},
   "outputs": [
    {
     "data": {
      "text/plain": [
       "Release Group       0\n",
       "Gross               0\n",
       "Maxtheater          0\n",
       "Openning            0\n",
       "Percent of total    0\n",
       "Openning theater    0\n",
       "Date                0\n",
       "Year                0\n",
       "dtype: int64"
      ]
     },
     "execution_count": 33,
     "metadata": {},
     "output_type": "execute_result"
    }
   ],
   "source": [
    "data.isnull().sum()"
   ]
  },
  {
   "cell_type": "markdown",
   "metadata": {},
   "source": [
    "Lưu vào file data"
   ]
  },
  {
   "cell_type": "code",
   "execution_count": 34,
   "metadata": {},
   "outputs": [],
   "source": [
    "output_file = \"data.csv\"\n",
    "data.to_csv(output_file, index=False)"
   ]
  }
 ],
 "metadata": {
  "kernelspec": {
   "display_name": "Python 3",
   "language": "python",
   "name": "python3"
  },
  "language_info": {
   "codemirror_mode": {
    "name": "ipython",
    "version": 3
   },
   "file_extension": ".py",
   "mimetype": "text/x-python",
   "name": "python",
   "nbconvert_exporter": "python",
   "pygments_lexer": "ipython3",
   "version": "3.11.7"
  }
 },
 "nbformat": 4,
 "nbformat_minor": 2
}
